{
 "cells": [
  {
   "cell_type": "markdown",
   "metadata": {},
   "source": [
    "### Import Section"
   ]
  },
  {
   "cell_type": "code",
   "execution_count": 70,
   "metadata": {},
   "outputs": [],
   "source": [
    "import pandas as pd\n"
   ]
  },
  {
   "cell_type": "markdown",
   "metadata": {},
   "source": [
    "### Reading data"
   ]
  },
  {
   "cell_type": "code",
   "execution_count": 71,
   "metadata": {},
   "outputs": [
    {
     "name": "stdout",
     "output_type": "stream",
     "text": [
      "<bound method DataFrame.to_string of                                                    title             type  \\\n",
      "0                            آخرین روز یک محکوم به اعدام        کتاب صوتی   \n",
      "1      میکروبوک تسخیر قلب‌ها در کمتر از ۹۰  ثانیه    ...        کتاب صوتی   \n",
      "2      پرچم سفید                                     ...        کتاب صوتی   \n",
      "3                                 جنگ جهانی دوم در اروپا        کتاب صوتی   \n",
      "4      مجازات توهین به مقدسات                        ...  کتاب الکترونیکی   \n",
      "...                                                  ...              ...   \n",
      "31627                                کارگردانی برای صحنه  کتاب الکترونیکی   \n",
      "31628  شب سپیده می‌زند، باری دیگر                    ...  کتاب الکترونیکی   \n",
      "31629  کمیک لیگ عدالت ریشه‌ها – قسمت اول             ...        کتاب صوتی   \n",
      "31630                              در باب مشاهده و ادراك  کتاب الکترونیکی   \n",
      "31631                       ده درس برای جهان پس از کرونا  کتاب الکترونیکی   \n",
      "\n",
      "                 author                  translator          narrator  \\\n",
      "0           ویکتور هوگو                  رضا عمرانی                --   \n",
      "1         نیکولاس بوتمن                گروه مترجمان        اعظم حبیبی   \n",
      "2             پرچم سفید                 احسان طریقت                --   \n",
      "3           فیلیپ گاوین             مهدی حقیقت خواه  آرمان سلطان‌زاده   \n",
      "4           اکبر سرداری                          --                --   \n",
      "...                 ...                         ...               ...   \n",
      "31627       پالی ايروين  مشهود محسنيان, هومن شباهنگ                --   \n",
      "31628  يوريك كريم‌مسيحی                          --                --   \n",
      "31629           جف جانز               پارسا ذی قیمت                --   \n",
      "31630        آلن دوباتن                   امير امجد                --   \n",
      "31631        فرید زکریا                مهرداد عاقدی                --   \n",
      "\n",
      "         price  publisher      pvp publish date language  \\\n",
      "0           --    ماه آوا       --   ۱۳۹۶/۱۱/۰۱    فارسی   \n",
      "1       ۶,۰۰۰   نوین کتاب       --   ۱۳۹۶/۰۵/۱۰    فارسی   \n",
      "2           --  پرچم سفید       --   ۱۳۹۷/۰۹/۱۲    فارسی   \n",
      "3      ۳۱,۰۰۰     آوانامه       --   ۱۳۹۵/۱۰/۱۵    فارسی   \n",
      "4       ۴,۵۰۰       مناره   ۱۳,۰۰۰   ۱۳۹۵/۱۰/۱۵    فارسی   \n",
      "...        ...        ...      ...          ...      ...   \n",
      "31627  ۱۰,۰۰۰       نمایش       --   ۱۳۸۵/۱۰/۱۵    فارسی   \n",
      "31628  ۳۰,۰۰۰       بیدگل   ۳۵,۰۰۰   ۱۳۹۳/۱۰/۱۵    فارسی   \n",
      "31629       --    اسکواد        --   ۱۳۹۰/۱۰/۱۵    فارسی   \n",
      "31630  ۱۰,۰۰۰        نیلا   ۱۵,۰۰۰   ۱۳۹۴/۰۳/۱۵    فارسی   \n",
      "31631  ۵۰,۰۰۰      طرح نو  ۱۱۵,۰۰۰   ۱۳۹۹/۱۱/۰۳    فارسی   \n",
      "\n",
      "                                            size  \\\n",
      "0        18.07 مگابایت\\n                           \n",
      "1        30.27 مگابایت\\n                           \n",
      "2        37.97 مگابایت\\n                           \n",
      "3       238.61 مگابایت\\n                           \n",
      "4         1.51 مگابایت\\n                           \n",
      "...                                          ...   \n",
      "31627     4.22 مگابایت\\n                           \n",
      "31628     4.38 مگابایت\\n                           \n",
      "31629    27.57 مگابایت\\n                           \n",
      "31630     0.58 مگابایت\\n                           \n",
      "31631     5.36 مگابایت\\n                           \n",
      "\n",
      "                                    page count               ISBN  \\\n",
      "0                                           --                 --   \n",
      "1                                           --                 --   \n",
      "2                                           --                 --   \n",
      "3                                           --                 --   \n",
      "4       ۲۰۳ صفحه\\n                              978-600-97320-0-5   \n",
      "...                                        ...                ...   \n",
      "31627   ۱۲۵ صفحه\\n                                  964-2747-11-1   \n",
      "31628   ۲۸۰ صفحه\\n                              978-600-5193-71-8   \n",
      "31629    ۲۵ صفحه\\n                                             --   \n",
      "31630   ۱۰۳ صفحه\\n                              978-964-8573-88-6   \n",
      "31631   ۵۰۴ صفحه\\n                              978-964-489-147-2   \n",
      "\n",
      "                                             description  \\\n",
      "0                                                     --   \n",
      "1                                                     --   \n",
      "2      \\n                                    با به قد...   \n",
      "3                                                     --   \n",
      "4      \\n                                     تمییز ا...   \n",
      "...                                                  ...   \n",
      "31627  \\n                                    نقش کارگ...   \n",
      "31628  \\n                                    عکسِ فیل...   \n",
      "31629  \\n                                     در سال ...   \n",
      "31630  \\n                                     از کنای...   \n",
      "31631  \\n                                    جمله‌ای ...   \n",
      "\n",
      "                                           category  \\\n",
      "0                                  کتاب‌های رایگان    \n",
      "1                                          میکروبوک   \n",
      "2                        کانال‌های پادکست,پرچم سفید   \n",
      "3                                             تاریخ   \n",
      "4                                              حقوق   \n",
      "...                                             ...   \n",
      "31627  هنر, سینما و تاتر, دور تا دور دنیا نمایشنامه   \n",
      "31628  هنر, سینما و تاتر, دور تا دور دنیا نمایشنامه   \n",
      "31629                               کمیک‌های رایگان   \n",
      "31630                                           هنر   \n",
      "31631                سبک زندگی, سلامت و رژیم درمانی   \n",
      "\n",
      "                                                   cover  \n",
      "0      https://newcdn.fidibo.com/images/books/82352_5...  \n",
      "1      https://newcdn.fidibo.com/images/books/68419_1...  \n",
      "2      https://newcdn.fidibo.com/images/books/85923_4...  \n",
      "3      https://newcdn.fidibo.com/images/books/84275_2...  \n",
      "4      https://newcdn.fidibo.com/images/books/69783_6...  \n",
      "...                                                  ...  \n",
      "31627  https://newcdn.fidibo.com/images/books/5677_80...  \n",
      "31628  https://newcdn.fidibo.com/images/books/64625_3...  \n",
      "31629  https://newcdn.fidibo.com/images/books/71396_5...  \n",
      "31630  https://newcdn.fidibo.com/images/books/5038_51...  \n",
      "31631  https://newcdn.fidibo.com/images/books/126918_...  \n",
      "\n",
      "[31632 rows x 16 columns]>\n"
     ]
    }
   ],
   "source": [
    "df = pd.read_csv('fidibo_books.csv')\n",
    "\n",
    "print(df.to_string)"
   ]
  },
  {
   "cell_type": "markdown",
   "metadata": {},
   "source": [
    "### Normalizing data"
   ]
  },
  {
   "cell_type": "code",
   "execution_count": 72,
   "metadata": {},
   "outputs": [],
   "source": [
    "def null_value_normalizer(df,column):\n",
    "    df[column].replace({\"--\":\"-1\"}, inplace=True)\n",
    "    for i in range(0,len(df[column])):\n",
    "        df[column][i] = df[column][i].replace(\",\",\"\")\n",
    "        df[column][i] = df[column][i].replace(\"صفحه\",\"\")\n",
    "        df[column][i] = df[column][i].replace(\"مگابایت\",\"\")\n",
    "        df[column][i] = df[column][i].replace(\"گیگابایت\",\"\")\n",
    "        df[column][i] = df[column][i].replace(\"کیلوبایت\",\"\")\n",
    "        df[column][i] = df[column][i].replace(\"\\n\",\"\")\n",
    "        df[column][i] = df[column][i].strip()\n",
    "        if(df[column][i]==\"\"):\n",
    "            df[column][i] = \"-1\"\n",
    "\n",
    "null_value_normalizer(df,\"price\")\n",
    "null_value_normalizer(df,\"page count\")\n",
    "null_value_normalizer(df,\"size\")"
   ]
  },
  {
   "cell_type": "code",
   "execution_count": 73,
   "metadata": {},
   "outputs": [
    {
     "name": "stdout",
     "output_type": "stream",
     "text": [
      "0         -1\n",
      "1         -1\n",
      "2         -1\n",
      "3         -1\n",
      "4        ۲۰۳\n",
      "        ... \n",
      "31627    ۱۲۵\n",
      "31628    ۲۸۰\n",
      "31629     ۲۵\n",
      "31630    ۱۰۳\n",
      "31631    ۵۰۴\n",
      "Name: page count, Length: 31632, dtype: object\n"
     ]
    }
   ],
   "source": [
    "print(df[\"page count\"])"
   ]
  },
  {
   "cell_type": "markdown",
   "metadata": {},
   "source": [
    "### Changing datatype"
   ]
  },
  {
   "cell_type": "code",
   "execution_count": 74,
   "metadata": {},
   "outputs": [
    {
     "name": "stdout",
     "output_type": "stream",
     "text": [
      "title            object\n",
      "type             object\n",
      "author           object\n",
      "translator       object\n",
      "narrator         object\n",
      "price             int32\n",
      "publisher        object\n",
      "pvp              object\n",
      "publish date     object\n",
      "language         object\n",
      "size            float64\n",
      "page count        int32\n",
      "ISBN             object\n",
      "description      object\n",
      "category         object\n",
      "cover            object\n",
      "dtype: object\n"
     ]
    }
   ],
   "source": [
    "def dtype_changer(df,column):\n",
    "    if(column==\"price\" or column==\"page count\"):\n",
    "        df = df.astype({column:int})\n",
    "    elif(column==\"size\"):\n",
    "        df = df.astype({column:float})\n",
    "    else:\n",
    "        df = df.astype({column:str})\n",
    "    return df\n",
    "\n",
    "for column in list(df.columns):\n",
    "    df = dtype_changer(df,column)\n",
    "\n",
    "print(df.dtypes)"
   ]
  },
  {
   "cell_type": "code",
   "execution_count": 78,
   "metadata": {},
   "outputs": [
    {
     "name": "stdout",
     "output_type": "stream",
     "text": [
      "<bound method DataFrame.to_string of                                                    title             type  \\\n",
      "0                            آخرین روز یک محکوم به اعدام        کتاب صوتی   \n",
      "1      میکروبوک تسخیر قلب‌ها در کمتر از ۹۰  ثانیه    ...        کتاب صوتی   \n",
      "2      پرچم سفید                                     ...        کتاب صوتی   \n",
      "3                                 جنگ جهانی دوم در اروپا        کتاب صوتی   \n",
      "4      مجازات توهین به مقدسات                        ...  کتاب الکترونیکی   \n",
      "...                                                  ...              ...   \n",
      "31627                                کارگردانی برای صحنه  کتاب الکترونیکی   \n",
      "31628  شب سپیده می‌زند، باری دیگر                    ...  کتاب الکترونیکی   \n",
      "31629  کمیک لیگ عدالت ریشه‌ها – قسمت اول             ...        کتاب صوتی   \n",
      "31630                              در باب مشاهده و ادراك  کتاب الکترونیکی   \n",
      "31631                       ده درس برای جهان پس از کرونا  کتاب الکترونیکی   \n",
      "\n",
      "                 author                  translator          narrator  price  \\\n",
      "0           ویکتور هوگو                  رضا عمرانی                --     -1   \n",
      "1         نیکولاس بوتمن                گروه مترجمان        اعظم حبیبی   6000   \n",
      "2             پرچم سفید                 احسان طریقت                --     -1   \n",
      "3           فیلیپ گاوین             مهدی حقیقت خواه  آرمان سلطان‌زاده  31000   \n",
      "4           اکبر سرداری                          --                --   4500   \n",
      "...                 ...                         ...               ...    ...   \n",
      "31627       پالی ايروين  مشهود محسنيان, هومن شباهنگ                --  10000   \n",
      "31628  يوريك كريم‌مسيحی                          --                --  30000   \n",
      "31629           جف جانز               پارسا ذی قیمت                --     -1   \n",
      "31630        آلن دوباتن                   امير امجد                --  10000   \n",
      "31631        فرید زکریا                مهرداد عاقدی                --  50000   \n",
      "\n",
      "       publisher      pvp publish date language    size  page count  \\\n",
      "0        ماه آوا       --   ۱۳۹۶/۱۱/۰۱    فارسی   18.07          -1   \n",
      "1      نوین کتاب       --   ۱۳۹۶/۰۵/۱۰    فارسی   30.27          -1   \n",
      "2      پرچم سفید       --   ۱۳۹۷/۰۹/۱۲    فارسی   37.97          -1   \n",
      "3        آوانامه       --   ۱۳۹۵/۱۰/۱۵    فارسی  238.61          -1   \n",
      "4          مناره   ۱۳,۰۰۰   ۱۳۹۵/۱۰/۱۵    فارسی    1.51         203   \n",
      "...          ...      ...          ...      ...     ...         ...   \n",
      "31627      نمایش       --   ۱۳۸۵/۱۰/۱۵    فارسی    4.22         125   \n",
      "31628      بیدگل   ۳۵,۰۰۰   ۱۳۹۳/۱۰/۱۵    فارسی    4.38         280   \n",
      "31629    اسکواد        --   ۱۳۹۰/۱۰/۱۵    فارسی   27.57          25   \n",
      "31630       نیلا   ۱۵,۰۰۰   ۱۳۹۴/۰۳/۱۵    فارسی    0.58         103   \n",
      "31631     طرح نو  ۱۱۵,۰۰۰   ۱۳۹۹/۱۱/۰۳    فارسی    5.36         504   \n",
      "\n",
      "                    ISBN                                        description  \\\n",
      "0                     --                                                 --   \n",
      "1                     --                                                 --   \n",
      "2                     --  \\n                                    با به قد...   \n",
      "3                     --                                                 --   \n",
      "4      978-600-97320-0-5  \\n                                     تمییز ا...   \n",
      "...                  ...                                                ...   \n",
      "31627      964-2747-11-1  \\n                                    نقش کارگ...   \n",
      "31628  978-600-5193-71-8  \\n                                    عکسِ فیل...   \n",
      "31629                 --  \\n                                     در سال ...   \n",
      "31630  978-964-8573-88-6  \\n                                     از کنای...   \n",
      "31631  978-964-489-147-2  \\n                                    جمله‌ای ...   \n",
      "\n",
      "                                           category  \\\n",
      "0                                  کتاب‌های رایگان    \n",
      "1                                          میکروبوک   \n",
      "2                        کانال‌های پادکست,پرچم سفید   \n",
      "3                                             تاریخ   \n",
      "4                                              حقوق   \n",
      "...                                             ...   \n",
      "31627  هنر, سینما و تاتر, دور تا دور دنیا نمایشنامه   \n",
      "31628  هنر, سینما و تاتر, دور تا دور دنیا نمایشنامه   \n",
      "31629                               کمیک‌های رایگان   \n",
      "31630                                           هنر   \n",
      "31631                سبک زندگی, سلامت و رژیم درمانی   \n",
      "\n",
      "                                                   cover  \n",
      "0      https://newcdn.fidibo.com/images/books/82352_5...  \n",
      "1      https://newcdn.fidibo.com/images/books/68419_1...  \n",
      "2      https://newcdn.fidibo.com/images/books/85923_4...  \n",
      "3      https://newcdn.fidibo.com/images/books/84275_2...  \n",
      "4      https://newcdn.fidibo.com/images/books/69783_6...  \n",
      "...                                                  ...  \n",
      "31627  https://newcdn.fidibo.com/images/books/5677_80...  \n",
      "31628  https://newcdn.fidibo.com/images/books/64625_3...  \n",
      "31629  https://newcdn.fidibo.com/images/books/71396_5...  \n",
      "31630  https://newcdn.fidibo.com/images/books/5038_51...  \n",
      "31631  https://newcdn.fidibo.com/images/books/126918_...  \n",
      "\n",
      "[31632 rows x 16 columns]>\n"
     ]
    }
   ],
   "source": [
    "print(df.to_string)"
   ]
  },
  {
   "cell_type": "markdown",
   "metadata": {},
   "source": [
    "### Writing to the ouput file"
   ]
  },
  {
   "cell_type": "code",
   "execution_count": 79,
   "metadata": {},
   "outputs": [],
   "source": [
    "df.to_csv(\"normalized_data.csv\", index=False)"
   ]
  }
 ],
 "metadata": {
  "interpreter": {
   "hash": "ed6f8511504a3e81d92750e3cadc243fb6ca8082ebb264fd85b01bd8694822cd"
  },
  "kernelspec": {
   "display_name": "Python 3.10.0 ('my_venv': venv)",
   "language": "python",
   "name": "python3"
  },
  "language_info": {
   "codemirror_mode": {
    "name": "ipython",
    "version": 3
   },
   "file_extension": ".py",
   "mimetype": "text/x-python",
   "name": "python",
   "nbconvert_exporter": "python",
   "pygments_lexer": "ipython3",
   "version": "3.9.7"
  },
  "orig_nbformat": 4
 },
 "nbformat": 4,
 "nbformat_minor": 2
}
